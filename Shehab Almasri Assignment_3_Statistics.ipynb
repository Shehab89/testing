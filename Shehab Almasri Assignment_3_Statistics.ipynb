{
  "nbformat": 4,
  "nbformat_minor": 0,
  "metadata": {
    "kernelspec": {
      "display_name": "Python 3",
      "language": "python",
      "name": "python3"
    },
    "language_info": {
      "codemirror_mode": {
        "name": "ipython",
        "version": 3
      },
      "file_extension": ".py",
      "mimetype": "text/x-python",
      "name": "python",
      "nbconvert_exporter": "python",
      "pygments_lexer": "ipython3",
      "version": "3.7.4"
    },
    "colab": {
      "name": "Assignment 3 Statistics.ipynb",
      "provenance": [],
      "include_colab_link": true
    }
  },
  "cells": [
    {
      "cell_type": "markdown",
      "metadata": {
        "id": "view-in-github",
        "colab_type": "text"
      },
      "source": [
        "<a href=\"https://colab.research.google.com/github/Shehab89/testing/blob/master/Shehab%20Almasri%20Assignment_3_Statistics.ipynb\" target=\"_parent\"><img src=\"https://colab.research.google.com/assets/colab-badge.svg\" alt=\"Open In Colab\"/></a>"
      ]
    },
    {
      "cell_type": "code",
      "metadata": {
        "collapsed": true,
        "id": "Tv5a2rUpMHkD"
      },
      "source": [
        "import numpy as np\n",
        "import pandas as pd\n",
        "import math\n",
        "import matplotlib.pyplot as plt\n",
        "from scipy.stats import norm, invgauss"
      ],
      "execution_count": 31,
      "outputs": []
    },
    {
      "cell_type": "code",
      "metadata": {
        "collapsed": true,
        "id": "wUaNfCWxMHkk"
      },
      "source": [
        "def hypothesis_test(x1, x2, alpha):\n",
        "    '''\n",
        "    This function does a hypothesis test over the mean by considering x1 as the population and x2 as the mean. Alpha is the\n",
        "    significance level\n",
        "    Output: lower bound of the critical region, higher bound of the critical region, p-value.\n",
        "    '''\n",
        "    m1=np.mean(x1)\n",
        "    m2=np.mean(x2)\n",
        "    std=np.std(x1)\n",
        "    len_x2=len(x2)-1\n",
        "    #t = abs(m2 - m1)/std\n",
        "    z_0=(m2-m1)/(std/(len_x2 ** 0.5))\n",
        "    phi = norm.cdf(z_0)\n",
        "    pvalue=2*(1-(phi))\n",
        "    if (pvalue > alpha) :\n",
        "      print ('\\nThe Hypothesis is rejected!')\n",
        "    else: \n",
        "      print ('\\nFailed to reject the Hypothesis')\n",
        "    z=(1-alpha)/2\n",
        "    ppf=norm.ppf(z, loc=m2, scale=std)\n",
        "    interval_value = std * ppf\n",
        "    lower_critical_limit = m1 - interval_value\n",
        "    upper_critical_limit = m1 + interval_value\n",
        "    #pvalue=(lower_critical_limit+upper_critical_limit)/ len_x2\n",
        "    #pvalue=p = 2*(1-scs.t.cdf(t, len_x2))\n",
        "    print ('P Value =', pvalue)\n",
        "    print ('\\nLower critical limit = ', lower_critical_limit)\n",
        "    print ('\\nUpper critical limit = ', upper_critical_limit)\n",
        "    plt.hist(x2,bins=100)\n",
        "    plt.grid()\n",
        "    plt.title('Normal Distribution',fontsize=15)\n",
        "    plt.xlabel('x',fontsize=20)\n",
        "    plt.ylabel('Number of Occurence',fontsize=15)\n",
        "    plt.show()  \n",
        "    return lower_critical_limit, upper_critical_limit, pvalue"
      ],
      "execution_count": 49,
      "outputs": []
    },
    {
      "cell_type": "code",
      "metadata": {
        "collapsed": true,
        "colab": {
          "base_uri": "https://localhost:8080/",
          "height": 855
        },
        "id": "GXgmiwOFMHks",
        "outputId": "de2252d7-5b54-41eb-e77f-d893dc49e22a"
      },
      "source": [
        "print(\"Problem 3\")\n",
        "\n",
        "x1 = pd.read_csv('/content/drive/MyDrive/CIT651/Assignment3/Data3-1.txt', sep=\",\", header=None)\n",
        "x1 = np.array(x1).squeeze(0)\n",
        "\n",
        "x2 = pd.read_csv('/content/drive/MyDrive/CIT651/Assignment3/Data3-2.txt', sep=\",\", header=None)\n",
        "x2 = np.array(x2).squeeze(0)\n",
        "\n",
        "x3 = pd.read_csv('/content/drive/MyDrive/CIT651/Assignment3/Data3-3.txt', sep=\",\", header=None)\n",
        "x3 = np.array(x3).squeeze(0)\n",
        "\n",
        "lower1, upper1, pvalue1 = hypothesis_test(x1, x2, 0.05)\n",
        "lower2, upper2, pvalue2 = hypothesis_test(x1, x3, 0.05)"
      ],
      "execution_count": 50,
      "outputs": [
        {
          "output_type": "stream",
          "name": "stdout",
          "text": [
            "Problem 3\n",
            "\n",
            "The Hypothesis is rejected!\n",
            "P Value = 0.8615421688939233\n",
            "\n",
            "Lower critical limit =  0.05696341121511585\n",
            "\n",
            "Upper critical limit =  -0.12222669311711586\n"
          ]
        },
        {
          "output_type": "display_data",
          "data": {
            "image/png": "[encoded data removed]",
            "text/plain": [
              "<Figure size 432x288 with 1 Axes>"
            ]
          },
          "metadata": {
            "needs_background": "light"
          }
        },
        {
          "output_type": "stream",
          "name": "stdout",
          "text": [
            "\n",
            "Failed to reject the Hypothesis\n",
            "P Value = 0.00010327211168892347\n",
            "\n",
            "Lower critical limit =  -0.06000449036524045\n",
            "\n",
            "Upper critical limit =  -0.005258791536759559\n"
          ]
        },
        {
          "output_type": "display_data",
          "data": {
            "image/png": "[encoded data removed]",
            "text/plain": [
              "<Figure size 432x288 with 1 Axes>"
            ]
          },
          "metadata": {
            "needs_background": "light"
          }
        }
      ]
    },
    {
      "cell_type": "code",
      "metadata": {
        "id": "c86AILyovvbY",
        "colab": {
          "base_uri": "https://localhost:8080/"
        },
        "outputId": "8a6a62fb-0a7b-437c-d812-525b3855bec2"
      },
      "source": [
        "from google.colab import drive\n",
        "drive.mount('/content/drive')"
      ],
      "execution_count": 1,
      "outputs": [
        {
          "output_type": "stream",
          "name": "stdout",
          "text": [
            "Mounted at /content/drive\n"
          ]
        }
      ]
    }
  ]
}